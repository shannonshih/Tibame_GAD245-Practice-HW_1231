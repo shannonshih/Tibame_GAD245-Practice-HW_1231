{
  "nbformat": 4,
  "nbformat_minor": 0,
  "metadata": {
    "colab": {
      "provenance": [],
      "authorship_tag": "ABX9TyNduGLAYVkxX6ceQ0PTXDU+",
      "include_colab_link": true
    },
    "kernelspec": {
      "name": "python3",
      "display_name": "Python 3"
    },
    "language_info": {
      "name": "python"
    }
  },
  "cells": [
    {
      "cell_type": "markdown",
      "metadata": {
        "id": "view-in-github",
        "colab_type": "text"
      },
      "source": [
        "<a href=\"https://colab.research.google.com/github/shannonshih/Tibame_GAD245-Practice-HW_1231/blob/main/Practice01(%E8%BF%B4%E5%9C%88%E5%9B%9B)_1231.ipynb\" target=\"_parent\"><img src=\"https://colab.research.google.com/assets/colab-badge.svg\" alt=\"Open In Colab\"/></a>"
      ]
    },
    {
      "cell_type": "code",
      "execution_count": null,
      "metadata": {
        "id": "ZsNSTyjGRMal"
      },
      "outputs": [],
      "source": [
        "# Practice1\n",
        "import random\n",
        "\n",
        "# 隨機一個整數 -1: 輸 0: 平手 1: 贏\n",
        "trans = [\"輸(L)\", \"平手(E)\", \"贏(W)\"]\n",
        "\n",
        "lose, even, win = 0, 0, 0\n",
        "# 條件1: win < 3\n",
        "# 條件2: lose < 3\n",
        "# 當 我還沒贏三次 而且 對手還沒贏三次 我們繼續玩(o)\n",
        "# 當 我還沒贏三次 或者 對手還沒贏三次 我們繼續玩(x)\n",
        "# -> 每個人都要贏三次才能結束\n",
        "while lose < 3 and win < 3:\n",
        "    result = random.randint(-1, 1)\n",
        "    print(trans[result+1])\n",
        "    if result == -1:\n",
        "        lose = lose + 1\n",
        "    elif result == 0:\n",
        "        even = even + 1\n",
        "    elif result == 1:\n",
        "        win = win + 1\n",
        "if lose < win:\n",
        "    print(\"總體: WIN\")\n",
        "else\n",
        "    print(\"總體: LOSE\")"
      ]
    },
    {
      "cell_type": "code",
      "source": [
        "# Practice2\n",
        "import random\n",
        "\n",
        "# 隨機一個整數 -1: 輸 0: 平手 1: 贏\n",
        "trans = [\"輸(L)\", \"平手(E)\", \"贏(W)\"]\n",
        "\n",
        "lose, even, win = 0, 0, 0\n",
        "# 條件1: win < 3\n",
        "# 條件2: lose < 3\n",
        "# 當 我還沒贏三次 而且 對手還沒贏三次 我們繼續玩(o)\n",
        "# 當 我還沒贏三次 或者 對手還沒贏三次 我們繼續玩(x)\n",
        "# -> 每個人都要贏三次才能結束\n",
        "while True:\n",
        "    result = random.randint(-1, 1)\n",
        "    print(trans[result+1])\n",
        "    if result == -1:\n",
        "        lose = lose + 1\n",
        "    elif result == 0:\n",
        "        even = even + 1\n",
        "    elif result == 1:\n",
        "        win = win + 1\n",
        "\n",
        "    # 判斷改在這\n",
        "    # 1. 妳不用在while後面塞下所有條件, 甚至妳不用塞一堆and/or(地點自由)\n",
        "    # 2. 任意時間判斷(時間自由)\n",
        "    # 3. 是妳可以做完收尾工作才結束迴圈(流程自由)\n",
        "    # 4. 隱性好處: 有時候結束講中文會比較容易\n",
        "    if win >= 3:\n",
        "        print(\"總體: WIN\")\n",
        "        break\n",
        "    elif lose >= 3:\n",
        "        print(\"總體: LOSE\")\n",
        "        break"
      ],
      "metadata": {
        "id": "l_xrVg7SV1Ax"
      },
      "execution_count": null,
      "outputs": []
    },
    {
      "cell_type": "code",
      "source": [
        "# Practice3\n",
        "# 如果今天整除 要提早結束\n",
        "# 2 / 7 -> 0.2857142857\n",
        "# 3 / 5 -> 0.6\n",
        "a, b = 3, 5\n",
        "ans = \"0.\"\n",
        "\n",
        "while True:\n",
        "    # 2 -> 20\n",
        "    a10 = a * 10\n",
        "    # 20 // b\n",
        "    ans = ans + str(a10 // b)\n",
        "    print(ans)\n",
        "    # 20 % 7\n",
        "    a = a10 % b\n",
        "    if a == 0:\n",
        "        break\n",
        "    i = i + 1"
      ],
      "metadata": {
        "colab": {
          "base_uri": "https://localhost:8080/"
        },
        "id": "3ZT6NxtUhPfV",
        "outputId": "ce000498-9b27-457b-d3a9-b776d1139d8f"
      },
      "execution_count": 3,
      "outputs": [
        {
          "output_type": "stream",
          "name": "stdout",
          "text": [
            "0.6\n"
          ]
        }
      ]
    },
    {
      "cell_type": "code",
      "source": [
        "# Practice4\n",
        "# 如果今天整除 要提早結束\n",
        "# 2 / 7 -> 0.2857142857\n",
        "# 3 / 5 -> 0.6\n",
        "# 50 / 7 -> 7.142857142857\n",
        "a, b = 50, 7\n",
        "ans = str(a//b) + \".\"\n",
        "a = a % b\n",
        "\n",
        "i = 0\n",
        "while i < 10:\n",
        "    # 2 -> 20\n",
        "    a10 = a * 10\n",
        "    # 20 // b\n",
        "    ans = ans + str(a10 // b)\n",
        "    print(ans)\n",
        "    # 20 % 7\n",
        "    a = a10 % b\n",
        "    if a == 0:\n",
        "        break\n",
        "    i = i + 1"
      ],
      "metadata": {
        "colab": {
          "base_uri": "https://localhost:8080/"
        },
        "id": "ezd1GSq8jNqT",
        "outputId": "aa2c2c9f-ec82-4cdc-d782-ad17ded964bd"
      },
      "execution_count": 5,
      "outputs": [
        {
          "output_type": "stream",
          "name": "stdout",
          "text": [
            "7.1\n",
            "7.14\n",
            "7.142\n",
            "7.1428\n",
            "7.14285\n",
            "7.142857\n",
            "7.1428571\n",
            "7.14285714\n",
            "7.142857142\n",
            "7.1428571428\n"
          ]
        }
      ]
    },
    {
      "cell_type": "code",
      "source": [
        "# Practice5_如何判斷數字是否為合理日期_完全平方日\n",
        "n = 20223009\n",
        "last4 = n % 10000\n",
        "month = last4 // 100\n",
        "day = last4 % 100\n",
        "print(last4, month, day)"
      ],
      "metadata": {
        "colab": {
          "base_uri": "https://localhost:8080/"
        },
        "id": "73EoJl5mlQ_f",
        "outputId": "4d50d121-6f01-4c9f-9a6b-7ab1fc40d55f"
      },
      "execution_count": 17,
      "outputs": [
        {
          "output_type": "stream",
          "name": "stdout",
          "text": [
            "3009 30 9\n"
          ]
        }
      ]
    },
    {
      "cell_type": "code",
      "source": [
        "# Practice5-1\n",
        "n = 20223009\n",
        "last4 = n % 10000\n",
        "month = last4 // 100\n",
        "day = last4 % 100\n",
        "print(last4, month, day)\n",
        "\n",
        "if 1 <= month <= 12:\n",
        "    print(\"日期合理\")\n",
        "else:\n",
        "    print(\"日期不合理(月)\")"
      ],
      "metadata": {
        "colab": {
          "base_uri": "https://localhost:8080/"
        },
        "id": "YrZRuKo-oZUK",
        "outputId": "fea2c399-ad25-46ac-e80e-90c22e57f2de"
      },
      "execution_count": 8,
      "outputs": [
        {
          "output_type": "stream",
          "name": "stdout",
          "text": [
            "日期不合理(月)\n",
            "3009 30 9\n"
          ]
        }
      ]
    },
    {
      "cell_type": "code",
      "source": [
        "# Practice5-2\n",
        "n = 20220228\n",
        "last4 = n % 10000\n",
        "month = last4 // 100\n",
        "day = last4 % 100\n",
        "print(last4, month, day)\n",
        "\n",
        "monthlist = [31, 28, 31, 30, 31, 30, 31, 31, 30, 31, 30, 31]\n",
        "if 1 <= month <= 12:\n",
        "    if 1 <= day <= monthlist[month-1]:\n",
        "        print(\"日期合理\")\n",
        "    else:\n",
        "        print(\"日期不合理(天)\")\n",
        "else:\n",
        "    print(\"日期不合理(月)\")"
      ],
      "metadata": {
        "colab": {
          "base_uri": "https://localhost:8080/"
        },
        "id": "IaW5hdznrEfs",
        "outputId": "e7cac8da-331d-4a60-8539-e7bfc2e1012e"
      },
      "execution_count": 16,
      "outputs": [
        {
          "output_type": "stream",
          "name": "stdout",
          "text": [
            "日期合理\n",
            "228 2 28\n"
          ]
        }
      ]
    },
    {
      "cell_type": "code",
      "source": [
        "# Practice5-3_如何判斷數字是否為合理日期_加入判斷是否為閏年_完全平方日\n",
        "# n = 20220228\n",
        "n = 30000229\n",
        "last4 = n % 10000\n",
        "year = n // 10000\n",
        "month = last4 // 100\n",
        "day = last4 % 100\n",
        "print(last4, year, month, day)\n",
        "\n",
        "monthlist = [31, 28, 31, 30, 31, 30, 31, 31, 30, 31, 30, 31]\n",
        "\n",
        "# 考慮閏年\n",
        "if not year % 100 == 0:\n",
        "    if year % 4 and year % 400 == 0:\n",
        "        monthlist = monthlist[1] + 1\n",
        "        print(\"是閏年\")\n",
        "    else:\n",
        "      print(\"不是閏年\")\n",
        "else:\n",
        "    print(\"不是閏年\")\n",
        "\n",
        "if 1 <= month <= 12:\n",
        "    if 1 <= day <= monthlist[month-1]:\n",
        "        print(\"日期合理\")\n",
        "    else:\n",
        "        print(\"日期不合理(天)\")\n",
        "else:\n",
        "    print(\"日期不合理(月)\")"
      ],
      "metadata": {
        "colab": {
          "base_uri": "https://localhost:8080/"
        },
        "id": "8QzolFXMrLFS",
        "outputId": "c53ebd40-534f-427b-981d-d1013503f283"
      },
      "execution_count": 43,
      "outputs": [
        {
          "output_type": "stream",
          "name": "stdout",
          "text": [
            "229 3000 2 29\n",
            "不是閏年\n",
            "日期不合理(天)\n"
          ]
        }
      ]
    },
    {
      "cell_type": "code",
      "source": [
        "# Practice5-3_檢討\n",
        "n = 19800229\n",
        "n = 20000229\n",
        "n = 30000229\n",
        "year = n // 10000\n",
        "last4 = n % 10000\n",
        "day = last4 % 100\n",
        "month = last4 // 100\n",
        "print(year, month, day)\n",
        "\n",
        "max_days = [31, 28, 31, 30, 31, 30, 31, 31, 30, 31, 30, 31]\n",
        "if 1 <= month <= 12:\n",
        "    month_day = max_days[month-1]\n",
        "    # 考慮閏年\n",
        "    if month == 2:\n",
        "        if year % 400 == 0:\n",
        "            month_day = month_day + 1\n",
        "        elif year % 100 == 0:\n",
        "            pass\n",
        "        elif year % 4 == 0:\n",
        "            month_day = month_day + 1\n",
        "\n",
        "    if 1 <= day <= month_day:\n",
        "        print(\"合理\")\n",
        "    else:\n",
        "        print(\"不合理日期(天)\")\n",
        "else:\n",
        "    print(\"不合理日期(月)\")"
      ],
      "metadata": {
        "colab": {
          "base_uri": "https://localhost:8080/"
        },
        "id": "FLoDnZ33zhsS",
        "outputId": "318de7cf-06ab-4286-c4c3-8ada4c303ede"
      },
      "execution_count": 23,
      "outputs": [
        {
          "output_type": "stream",
          "name": "stdout",
          "text": [
            "3000 2 29\n",
            "不合理日期(天)\n"
          ]
        }
      ]
    },
    {
      "cell_type": "code",
      "source": [
        "# Practice5-4_自訂功能demo\n",
        "def add(n1, n2):\n",
        "    ans = n1 + n2\n",
        "    return ans\n",
        "\n",
        "print(add(3, 5))\n",
        "print(add(4, 6))"
      ],
      "metadata": {
        "id": "RpW9aDM8ULH5"
      },
      "execution_count": null,
      "outputs": []
    },
    {
      "cell_type": "code",
      "source": [
        "# Practice5-4-1\n",
        "# n = 19800229\n",
        "# n = 20000229\n",
        "# n = 30000229\n",
        "def is_leap_year(y):\n",
        "    if y % 400 == 0:\n",
        "        return True\n",
        "    elif y % 100 == 0:\n",
        "        return False\n",
        "    elif y % 4 == 0:\n",
        "        return True\n",
        "    else:\n",
        "        return False\n",
        "\n",
        "def is_valid_date(n):\n",
        "    year = n // 10000\n",
        "    last4 = n % 10000\n",
        "    day = last4 % 100\n",
        "    month = last4 // 100\n",
        "    # print(year, month, day)\n",
        "\n",
        "    max_days = [31, 28, 31, 30, 31, 30, 31, 31, 30, 31, 30, 31]\n",
        "    if 1 <= month <= 12:\n",
        "        month_day = max_days[month-1]\n",
        "        # 考慮閏年\n",
        "        if month == 2 and is_leap_year(year) == True:\n",
        "            month_day = month_day + 1\n",
        "            if 1 <= day <= month_day:\n",
        "                # print(\"合理\")\n",
        "                return True\n",
        "            else:\n",
        "                # print(\"不合理日期(天)\")\n",
        "                return False\n",
        "    else:\n",
        "        # print(\"不合理日期(月)\")\n",
        "        return False\n",
        "\n",
        "print(is_valid_date(19800229))\n",
        "print(is_valid_date(20000229))\n",
        "print(is_valid_date(30000229))"
      ],
      "metadata": {
        "colab": {
          "base_uri": "https://localhost:8080/"
        },
        "id": "DYoTiNJlQFhS",
        "outputId": "a5c2189c-db5d-49b7-d24d-eca8ebc5d2f8"
      },
      "execution_count": 29,
      "outputs": [
        {
          "output_type": "stream",
          "name": "stdout",
          "text": [
            "True\n",
            "True\n",
            "None\n"
          ]
        }
      ]
    },
    {
      "cell_type": "code",
      "source": [
        "# Practice5-5_完全平方日\n",
        "# n = 19800229\n",
        "# n = 20000229\n",
        "# n = 30000229\n",
        "def is_leap_year(y):\n",
        "    if y % 400 == 0:\n",
        "        return True\n",
        "    elif y % 100 == 0:\n",
        "        return False\n",
        "    elif y % 4 == 0:\n",
        "        return True\n",
        "    else:\n",
        "        return False\n",
        "\n",
        "def is_valid_date(n):\n",
        "    year = n // 10000\n",
        "    last4 = n % 10000\n",
        "    day = last4 % 100\n",
        "    month = last4 // 100\n",
        "    # print(year, month, day)\n",
        "\n",
        "    max_days = [31, 28, 31, 30, 31, 30, 31, 31, 30, 31, 30, 31]\n",
        "    if 1 <= month <= 12:\n",
        "        month_day = max_days[month-1]\n",
        "        # 考慮閏年\n",
        "        if month == 2 and is_leap_year(year) == True:\n",
        "            month_day = month_day + 1\n",
        "        if 1 <= day <= month_day:\n",
        "            # print(\"合理\")\n",
        "            return True\n",
        "        else:\n",
        "            # print(\"不合理日期(天)\")\n",
        "            return False\n",
        "    else:\n",
        "        # print(\"不合理日期(月)\")\n",
        "        return False\n",
        "\n",
        "# print(is_valid_date(19800229))\n",
        "# print(is_valid_date(20000229))\n",
        "# print(is_valid_date(30000229))\n",
        "\n",
        "# 正面: 把真實的日期拿出來, 檢查她可以不可以被開根號\n",
        "# 反面: 先拿值出來, 平方, 看這個平方過後的東西可不可以當日期(o)\n",
        "start = 4500\n",
        "count = 0\n",
        "while True:\n",
        "    date = start ** 2\n",
        "    if is_valid_date(date) == True:\n",
        "        print(start, date, \"是個完全平方日\")\n",
        "        count = count + 1\n",
        "    start = start + 1\n",
        "    if count == 10:\n",
        "        break"
      ],
      "metadata": {
        "colab": {
          "base_uri": "https://localhost:8080/"
        },
        "id": "M3Tj-0WhXiQn",
        "outputId": "31f623f9-e915-4363-a745-78845a131513"
      },
      "execution_count": 35,
      "outputs": [
        {
          "output_type": "stream",
          "name": "stdout",
          "text": [
            "4552 20720704 是個完全平方日\n",
            "4575 20930625 是個完全平方日\n",
            "4599 21150801 是個完全平方日\n",
            "4625 21390625 是個完全平方日\n",
            "4639 21520321 是個完全平方日\n",
            "4652 21641104 是個完全平方日\n",
            "4653 21650409 是個完全平方日\n",
            "4668 21790224 是個完全平方日\n",
            "4682 21921124 是個完全平方日\n",
            "4698 22071204 是個完全平方日\n"
          ]
        }
      ]
    },
    {
      "cell_type": "code",
      "source": [
        "# Practice5-5-1\n",
        "# n = 19800229\n",
        "# n = 20000229\n",
        "# n = 30000229\n",
        "def is_leap_year(y):\n",
        "    if y % 400 == 0:\n",
        "        return True\n",
        "    elif y % 100 == 0:\n",
        "        return False\n",
        "    elif y % 4 == 0:\n",
        "        return True\n",
        "    else:\n",
        "        return False\n",
        "\n",
        "def is_valid_date(n):\n",
        "    last4 = n % 10000\n",
        "    year = n // 10000\n",
        "    month = last4 // 100\n",
        "    day = last4 % 100\n",
        "    # print(year, month, day)\n",
        "\n",
        "    max_days = [31, 28, 31, 30, 31, 30, 31, 31, 30, 31, 30, 31]\n",
        "    if 1 <= month <= 12:\n",
        "        month_day = max_days[month-1]\n",
        "        # 考慮閏年\n",
        "        if month == 2 and is_leap_year(year) == True:\n",
        "            month_day = month_day + 1\n",
        "        if 1 <= day <= month_day:\n",
        "            # print(\"合理\")\n",
        "            return True\n",
        "        else:\n",
        "            # print(\"不合理日期(天)\")\n",
        "            return False\n",
        "    else:\n",
        "        # print(\"不合理日期(月)\")\n",
        "        return False\n",
        "\n",
        "# print(is_valid_date(19800229))\n",
        "# print(is_valid_date(20000229))\n",
        "# print(is_valid_date(30000229))\n",
        "\n",
        "# 正面: 把真實的日期拿出來, 檢查她可以不可以被開根號\n",
        "# 反面: 先拿值出來, 平方, 看這個平方過後的東西可不可以當日期(o)\n",
        "import math\n",
        "today = 20241231\n",
        "start = math.ceil(today ** 0.5)\n",
        "count = 0\n",
        "while True:\n",
        "    date = start ** 2\n",
        "    if is_valid_date(date) == True:\n",
        "        print(start, date, \"是個完全平方日\")\n",
        "        count = count + 1\n",
        "    start = start + 1\n",
        "    if count == 10:\n",
        "        break"
      ],
      "metadata": {
        "colab": {
          "base_uri": "https://localhost:8080/"
        },
        "id": "txinwxHObAUy",
        "outputId": "0c06e15b-a85c-4a9c-fea0-ae3750e163c5"
      },
      "execution_count": 34,
      "outputs": [
        {
          "output_type": "stream",
          "name": "stdout",
          "text": [
            "4552 20720704 是個完全平方日\n",
            "4575 20930625 是個完全平方日\n",
            "4599 21150801 是個完全平方日\n",
            "4625 21390625 是個完全平方日\n",
            "4639 21520321 是個完全平方日\n",
            "4652 21641104 是個完全平方日\n",
            "4653 21650409 是個完全平方日\n",
            "4668 21790224 是個完全平方日\n",
            "4682 21921124 是個完全平方日\n",
            "4698 22071204 是個完全平方日\n"
          ]
        }
      ]
    }
  ]
}