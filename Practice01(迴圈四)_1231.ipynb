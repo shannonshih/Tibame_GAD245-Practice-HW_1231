{
  "nbformat": 4,
  "nbformat_minor": 0,
  "metadata": {
    "colab": {
      "provenance": [],
      "authorship_tag": "ABX9TyMmBr1CaG+IR0PuM770V+0D",
      "include_colab_link": true
    },
    "kernelspec": {
      "name": "python3",
      "display_name": "Python 3"
    },
    "language_info": {
      "name": "python"
    }
  },
  "cells": [
    {
      "cell_type": "markdown",
      "metadata": {
        "id": "view-in-github",
        "colab_type": "text"
      },
      "source": [
        "<a href=\"https://colab.research.google.com/github/shannonshih/Tibame_GAD245-Practice-HW_1231/blob/main/Practice01(%E8%BF%B4%E5%9C%88%E5%9B%9B)_1231.ipynb\" target=\"_parent\"><img src=\"https://colab.research.google.com/assets/colab-badge.svg\" alt=\"Open In Colab\"/></a>"
      ]
    },
    {
      "cell_type": "code",
      "execution_count": null,
      "metadata": {
        "id": "ZsNSTyjGRMal"
      },
      "outputs": [],
      "source": [
        "# Practice1\n",
        "import random\n",
        "\n",
        "# 隨機一個整數 -1: 輸 0: 平手 1: 贏\n",
        "trans = [\"輸(L)\", \"平手(E)\", \"贏(W)\"]\n",
        "\n",
        "lose, even, win = 0, 0, 0\n",
        "# 條件1: win < 3\n",
        "# 條件2: lose < 3\n",
        "# 當 我還沒贏三次 而且 對手還沒贏三次 我們繼續玩(o)\n",
        "# 當 我還沒贏三次 或者 對手還沒贏三次 我們繼續玩(x)\n",
        "# -> 每個人都要贏三次才能結束\n",
        "while lose < 3 and win < 3:\n",
        "    result = random.randint(-1, 1)\n",
        "    print(trans[result+1])\n",
        "    if result == -1:\n",
        "        lose = lose + 1\n",
        "    elif result == 0:\n",
        "        even = even + 1\n",
        "    elif result == 1:\n",
        "        win = win + 1\n",
        "if lose < win:\n",
        "    print(\"總體: WIN\")\n",
        "else\n",
        "    print(\"總體: LOSE\")"
      ]
    },
    {
      "cell_type": "code",
      "source": [
        "# Practice2\n",
        "import random\n",
        "\n",
        "# 隨機一個整數 -1: 輸 0: 平手 1: 贏\n",
        "trans = [\"輸(L)\", \"平手(E)\", \"贏(W)\"]\n",
        "\n",
        "lose, even, win = 0, 0, 0\n",
        "# 條件1: win < 3\n",
        "# 條件2: lose < 3\n",
        "# 當 我還沒贏三次 而且 對手還沒贏三次 我們繼續玩(o)\n",
        "# 當 我還沒贏三次 或者 對手還沒贏三次 我們繼續玩(x)\n",
        "# -> 每個人都要贏三次才能結束\n",
        "while True:\n",
        "    result = random.randint(-1, 1)\n",
        "    print(trans[result+1])\n",
        "    if result == -1:\n",
        "        lose = lose + 1\n",
        "    elif result == 0:\n",
        "        even = even + 1\n",
        "    elif result == 1:\n",
        "        win = win + 1\n",
        "\n",
        "    # 判斷改在這\n",
        "    # 1. 妳不用在while後面塞下所有條件, 甚至妳不用塞一堆and/or(地點自由)\n",
        "    # 2. 任意時間判斷(時間自由)\n",
        "    # 3. 是妳可以做完收尾工作才結束迴圈(流程自由)\n",
        "    # 4. 隱性好處: 有時候結束講中文會比較容易\n",
        "    if win >= 3:\n",
        "        print(\"總體: WIN\")\n",
        "        break\n",
        "    elif lose >= 3:\n",
        "        print(\"總體: LOSE\")\n",
        "        break"
      ],
      "metadata": {
        "id": "l_xrVg7SV1Ax"
      },
      "execution_count": null,
      "outputs": []
    },
    {
      "cell_type": "code",
      "source": [
        "# Practice3\n",
        "# 如果今天整除 要提早結束\n",
        "# 2 / 7 -> 0.2857142857\n",
        "# 3 / 5 -> 0.6\n",
        "a, b = 3, 5\n",
        "ans = \"0.\"\n",
        "\n",
        "while True:\n",
        "    # 2 -> 20\n",
        "    a10 = a * 10\n",
        "    # 20 // b\n",
        "    ans = ans + str(a10 // b)\n",
        "    print(ans)\n",
        "    # 20 % 7\n",
        "    a = a10 % b\n",
        "    if a == 0:\n",
        "        break\n",
        "    i = i + 1"
      ],
      "metadata": {
        "colab": {
          "base_uri": "https://localhost:8080/"
        },
        "id": "3ZT6NxtUhPfV",
        "outputId": "ce000498-9b27-457b-d3a9-b776d1139d8f"
      },
      "execution_count": 3,
      "outputs": [
        {
          "output_type": "stream",
          "name": "stdout",
          "text": [
            "0.6\n"
          ]
        }
      ]
    },
    {
      "cell_type": "code",
      "source": [
        "# Practice4\n",
        "# 如果今天整除 要提早結束\n",
        "# 2 / 7 -> 0.2857142857\n",
        "# 3 / 5 -> 0.6\n",
        "# 50 / 7 -> 7.142857142857\n",
        "a, b = 50, 7\n",
        "ans = str(a//b) + \".\"\n",
        "a = a % b\n",
        "\n",
        "i = 0\n",
        "while i < 10:\n",
        "    # 2 -> 20\n",
        "    a10 = a * 10\n",
        "    # 20 // b\n",
        "    ans = ans + str(a10 // b)\n",
        "    print(ans)\n",
        "    # 20 % 7\n",
        "    a = a10 % b\n",
        "    if a == 0:\n",
        "        break\n",
        "    i = i + 1"
      ],
      "metadata": {
        "colab": {
          "base_uri": "https://localhost:8080/"
        },
        "id": "ezd1GSq8jNqT",
        "outputId": "aa2c2c9f-ec82-4cdc-d782-ad17ded964bd"
      },
      "execution_count": 5,
      "outputs": [
        {
          "output_type": "stream",
          "name": "stdout",
          "text": [
            "7.1\n",
            "7.14\n",
            "7.142\n",
            "7.1428\n",
            "7.14285\n",
            "7.142857\n",
            "7.1428571\n",
            "7.14285714\n",
            "7.142857142\n",
            "7.1428571428\n"
          ]
        }
      ]
    },
    {
      "cell_type": "code",
      "source": [
        "# Practice5_完全平方日\n",
        "n = 20223009\n",
        "last4 = n % 10000\n",
        "month = last4 // 100\n",
        "day = last4 % 100\n",
        "print(last4, month, day)"
      ],
      "metadata": {
        "colab": {
          "base_uri": "https://localhost:8080/"
        },
        "id": "73EoJl5mlQ_f",
        "outputId": "4d50d121-6f01-4c9f-9a6b-7ab1fc40d55f"
      },
      "execution_count": 17,
      "outputs": [
        {
          "output_type": "stream",
          "name": "stdout",
          "text": [
            "3009 30 9\n"
          ]
        }
      ]
    },
    {
      "cell_type": "code",
      "source": [
        "# Practice5-1\n",
        "n = 20223009\n",
        "last4 = n % 10000\n",
        "month = last4 // 100\n",
        "day = last4 % 100\n",
        "print(last4, month, day)\n",
        "\n",
        "if 1 <= month <= 12:\n",
        "    print(\"日期合理\")\n",
        "else:\n",
        "    print(\"日期不合理(月)\")"
      ],
      "metadata": {
        "colab": {
          "base_uri": "https://localhost:8080/"
        },
        "id": "YrZRuKo-oZUK",
        "outputId": "fea2c399-ad25-46ac-e80e-90c22e57f2de"
      },
      "execution_count": 8,
      "outputs": [
        {
          "output_type": "stream",
          "name": "stdout",
          "text": [
            "日期不合理(月)\n",
            "3009 30 9\n"
          ]
        }
      ]
    },
    {
      "cell_type": "code",
      "source": [
        "# Practice5-2\n",
        "n = 20220228\n",
        "last4 = n % 10000\n",
        "month = last4 // 100\n",
        "day = last4 % 100\n",
        "print(last4, month, day)\n",
        "\n",
        "monthlist = [31, 28, 31, 30, 31, 30, 31, 31, 30, 31, 30, 31]\n",
        "if 1 <= month <= 12:\n",
        "    if 1 <= day <= monthlist[month-1]:\n",
        "        print(\"日期合理\")\n",
        "    else:\n",
        "        print(\"日期不合理(天)\")\n",
        "else:\n",
        "    print(\"日期不合理(月)\")"
      ],
      "metadata": {
        "colab": {
          "base_uri": "https://localhost:8080/"
        },
        "id": "IaW5hdznrEfs",
        "outputId": "e7cac8da-331d-4a60-8539-e7bfc2e1012e"
      },
      "execution_count": 16,
      "outputs": [
        {
          "output_type": "stream",
          "name": "stdout",
          "text": [
            "日期合理\n",
            "228 2 28\n"
          ]
        }
      ]
    },
    {
      "cell_type": "code",
      "source": [
        "# Practice5-3\n",
        "n = 20220228\n",
        "last4 = n % 10000\n",
        "year = n // 10000\n",
        "month = last4 // 100\n",
        "day = last4 % 100\n",
        "print(last4, year, month, day)\n",
        "\n",
        "monthlist = [31, 28, 31, 30, 31, 30, 31, 31, 30, 31, 30, 31]\n",
        "\n",
        "# 考慮閏年\n",
        "if not year % 100 == 0:\n",
        "    if year % 4 == 0:\n",
        "    if year % 400 == 0:\n",
        "        monthlist = monthlist[1] + 1\n",
        "\n",
        "\n",
        "\n",
        "if 1 <= month <= 12:\n",
        "    if 1 <= day <= monthlist[month-1]:\n",
        "                print(\"日期合理是閏年\")\n",
        "            else:\n",
        "                print(\"日期不合理(天)\")\n",
        "        else:\n",
        "            print(\"日期不合理(月)\")\n",
        "    else:\n",
        "        print(\"日期不合理(年)\")\n",
        "else:\n",
        "    print(\"日期不合理(年)\")"
      ],
      "metadata": {
        "colab": {
          "base_uri": "https://localhost:8080/"
        },
        "id": "8QzolFXMrLFS",
        "outputId": "48db673b-2b60-4bc8-94af-d8960afe171d"
      },
      "execution_count": 22,
      "outputs": [
        {
          "output_type": "stream",
          "name": "stdout",
          "text": [
            "228 2022 2 28\n",
            "日期不合理(年)\n"
          ]
        }
      ]
    },
    {
      "cell_type": "code",
      "source": [
        "# Practice5-3_檢討\n",
        "n = 19800229\n",
        "n = 20000229\n",
        "n = 30000229\n",
        "year = n // 10000\n",
        "last4 = n % 10000\n",
        "day = last4 % 100\n",
        "month = last4 // 100\n",
        "print(year, month, day)\n",
        "\n",
        "max_days = [31, 28, 31, 30, 31, 30, 31, 31, 30, 31, 30, 31]\n",
        "if 1 <= month <= 12:\n",
        "    month_day = max_days[month-1]\n",
        "    # 考慮閏年\n",
        "    if month == 2:\n",
        "        if year % 400 == 0:\n",
        "            month_day = month_day + 1\n",
        "        elif year % 100 == 0:\n",
        "            pass\n",
        "        elif year % 4 == 0:\n",
        "            month_day = month_day + 1\n",
        "\n",
        "    if 1 <= day <= month_day:\n",
        "        print(\"合理\")\n",
        "    else:\n",
        "        print(\"不合理日期(天)\")\n",
        "else:\n",
        "    print(\"不合理日期(月)\")"
      ],
      "metadata": {
        "id": "FLoDnZ33zhsS"
      },
      "execution_count": null,
      "outputs": []
    }
  ]
}